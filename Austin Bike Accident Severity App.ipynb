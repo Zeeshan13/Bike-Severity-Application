{
 "cells": [
  {
   "cell_type": "code",
   "execution_count": 1,
   "id": "a78e7e57",
   "metadata": {},
   "outputs": [],
   "source": [
    "import pandas as pd\n",
    "from sklearn.preprocessing import LabelEncoder\n",
    "import numpy as np\n",
    "import matplotlib.pyplot as plt\n",
    "import seaborn as sns\n",
    "import bamboolib as bam\n",
    "\n",
    "\n",
    "df = pd.read_csv(\"C:/Users/Zeeshan/Downloads/Bike-Severity-Application-main/Bike-Severity-Application-main/bike_crash-B-PF307G4M.csv\")\n",
    "\n"
   ]
  },
  {
   "cell_type": "code",
   "execution_count": 2,
   "id": "1d14c111",
   "metadata": {},
   "outputs": [
    {
     "data": {
      "application/vnd.jupyter.widget-view+json": {
       "model_id": "2e0143e6c8c24b7a834081bed73b5327"
      },
      "text/plain": [
       "     $1000 Damage to Any One Person's Property Active School Zone Flag  \\\n",
       "0                                           No                      No   \n",
       "1                                           No                      No   \n",
       "2                                           No                      No   \n",
       "3                                           No                      No   \n",
       "4                                           No                      No   \n",
       "...                                        ...                     ...   \n",
       "2458                                        No                      No   \n",
       "2459                                        No                      No   \n",
       "2460                                        No                      No   \n",
       "2461                                       Yes                      No   \n",
       "2462                                       Yes                      No   \n",
       "\n",
       "      At Intersection Flag Average Daily Traffic Amount  \\\n",
       "0                    False                        15262   \n",
       "1                    False                      No Data   \n",
       "2                    False                      No Data   \n",
       "3                    False                      No Data   \n",
       "4                    False                        22775   \n",
       "...                    ...                          ...   \n",
       "2458                  True                      No Data   \n",
       "2459                  True                      No Data   \n",
       "2460                  True                      No Data   \n",
       "2461                  True                      No Data   \n",
       "2462                  True                      No Data   \n",
       "\n",
       "     Construction Zone Flag             Crash Severity  Crash Time  \\\n",
       "0                        No      Incapacitating Injury         239   \n",
       "1                        No  Non-Incapacitating Injury         310   \n",
       "2                        No  Non-Incapacitating Injury         310   \n",
       "3                        No  Non-Incapacitating Injury         310   \n",
       "4                        No  Non-Incapacitating Injury        2300   \n",
       "...                     ...                        ...         ...   \n",
       "2458                     No  Non-Incapacitating Injury        1254   \n",
       "2459                     No  Non-Incapacitating Injury        2048   \n",
       "2460                     No                Not Injured         737   \n",
       "2461                     No  Non-Incapacitating Injury         930   \n",
       "2462                     No                Not Injured        1802   \n",
       "\n",
       "      Crash Total Injury Count  Crash Year Day of Week  Intersection Related  \\\n",
       "0                            1        2010      Friday      Non Intersection   \n",
       "1                            2        2010      Friday      Non Intersection   \n",
       "2                            2        2010      Friday      Non Intersection   \n",
       "3                            2        2010      Friday      Non Intersection   \n",
       "4                            1        2010      Monday  Intersection Related   \n",
       "...                        ...         ...         ...                   ...   \n",
       "2458                         1        2017     Tuesday  Intersection Related   \n",
       "2459                         1        2017     Tuesday      Non Intersection   \n",
       "2460                         0        2017    Thursday  Intersection Related   \n",
       "2461                         1        2017      Friday          Intersection   \n",
       "2462                         0        2017      Friday          Intersection   \n",
       "\n",
       "          Roadway Part  Speed Limit Surface Condition   Traffic Control Type  \\\n",
       "0     Main/Proper Lane           45               Dry           Marked Lanes   \n",
       "1     Main/Proper Lane           35               Dry  Center Stripe/Divider   \n",
       "2     Main/Proper Lane           35               Dry  Center Stripe/Divider   \n",
       "3     Main/Proper Lane           35               Dry  Center Stripe/Divider   \n",
       "4     Main/Proper Lane           45               Dry                   None   \n",
       "...                ...          ...               ...                    ...   \n",
       "2458  Main/Proper Lane           40               Dry           Signal Light   \n",
       "2459  Main/Proper Lane           -1               Dry  Center Stripe/Divider   \n",
       "2460  Main/Proper Lane           30               Wet           Signal Light   \n",
       "2461  Main/Proper Lane           -1               Dry              Stop Sign   \n",
       "2462  Main/Proper Lane           35               Dry           Marked Lanes   \n",
       "\n",
       "         Person Helmet  \n",
       "0        Worn, Damaged  \n",
       "1             Not Worn  \n",
       "2             Not Worn  \n",
       "3             Not Worn  \n",
       "4             Not Worn  \n",
       "...                ...  \n",
       "2458          Not Worn  \n",
       "2459          Not Worn  \n",
       "2460          Not Worn  \n",
       "2461  Worn, Unk Damage  \n",
       "2462          Not Worn  \n",
       "\n",
       "[2463 rows x 16 columns]"
      ]
     },
     "metadata": {},
     "output_type": "display_data"
    }
   ],
   "source": [
    "df"
   ]
  },
  {
   "cell_type": "code",
   "execution_count": 3,
   "id": "f18a37ec",
   "metadata": {},
   "outputs": [
    {
     "name": "stdout",
     "output_type": "stream",
     "text": [
      "0    1637\n",
      "1     810\n",
      "2      16\n",
      "Name: Crash Severity, dtype: int64\n"
     ]
    }
   ],
   "source": [
    "severity_mapping = {\n",
    "    'Non-Incapacitating Injury': 0,  # Low severity\n",
    "    'Not Injured': 0,                # Low severity\n",
    "    'Incapacitating Injury': 1,      # Medium severity\n",
    "    'Possible Injury': 1,            # Medium severity\n",
    "    'Killed': 2                      # High severity\n",
    "}\n",
    "\n",
    "# Apply the mapping to the 'Crash Severity' column\n",
    "df['Crash Severity'] = df['Crash Severity'].map(severity_mapping)\n",
    "\n",
    "# Optional: Check the transformation has been applied correctly\n",
    "print(df['Crash Severity'].value_counts())"
   ]
  },
  {
   "cell_type": "code",
   "execution_count": 4,
   "id": "5e673047",
   "metadata": {},
   "outputs": [],
   "source": [
    "df['target'] = -1  \n",
    "df.loc[(df['$1000 Damage to Any One Person\\'s Property'] == 1) & (df['Crash Severity'] == 1), 'target'] = 1\n",
    "df.loc[(df['$1000 Damage to Any One Person\\'s Property'] == 0) & (df['Crash Severity'] == 0), 'target'] = 0\n"
   ]
  },
  {
   "cell_type": "code",
   "execution_count": 5,
   "id": "62b17c5d",
   "metadata": {},
   "outputs": [
    {
     "name": "stdout",
     "output_type": "stream",
     "text": [
      "0    02:39:00\n",
      "1    03:10:00\n",
      "2    03:10:00\n",
      "3    03:10:00\n",
      "4    23:00:00\n",
      "Name: Crash Time, dtype: object\n"
     ]
    }
   ],
   "source": [
    "# Convert 'Crash Time' to strings\n",
    "df['Crash Time'] = df['Crash Time'].astype(str)\n",
    "\n",
    "# Pad the strings with leading zeros to ensure they are 4 characters long\n",
    "df['Crash Time'] = df['Crash Time'].apply(lambda x: x.zfill(4))\n",
    "\n",
    "# Now, convert the formatted strings to datetime.time objects\n",
    "df['Crash Time'] = pd.to_datetime(df['Crash Time'], format='%H%M').dt.time\n",
    "\n",
    "# Check the first few entries to verify the conversion\n",
    "print(df['Crash Time'].head())"
   ]
  },
  {
   "cell_type": "markdown",
   "id": "b6edf9b2",
   "metadata": {},
   "source": [
    "Morning Rush Hour (6 AM to 9 AM): Traffic volume increases as people commute to work or school, potentially leading to more crashes.\n",
    "\n",
    "Midday (9 AM to 3 PM): Traffic might be lighter, but this period can include a mix of commercial traffic, lunchtime traffic, and off-peak travel.\n",
    "\n",
    "Afternoon Rush Hour (3 PM to 7 PM): Like the morning rush hour, the afternoon/early evening sees high traffic volumes as people return from work or school. Increased traffic, along with potentially lower light levels in the evening, can contribute to higher crash rates.\n",
    "\n",
    "Evening (7 PM to Midnight): Traffic volume decreases, but there might be a higher risk of crashes involving impaired drivers or reduced visibility.\n",
    "\n",
    "Late Night to Early Morning (Midnight to 6 AM): While traffic volumes are low, this period can have a higher proportion of crashes involving fatigue or impairment.\n"
   ]
  },
  {
   "cell_type": "code",
   "execution_count": 6,
   "id": "904ea50c",
   "metadata": {},
   "outputs": [
    {
     "name": "stdout",
     "output_type": "stream",
     "text": [
      "Category to Numerical Mapping:\n",
      "'Morning Rush Hour': 0\n",
      "'Midday': 1\n",
      "'Afternoon Rush Hour': 2\n",
      "'Evening': 3\n",
      "'Late Night to Early Morning': 4\n",
      "'Unknown': 5\n",
      "0    4\n",
      "1    4\n",
      "2    4\n",
      "3    4\n",
      "4    3\n",
      "Name: Crash Time Category, dtype: int64\n"
     ]
    }
   ],
   "source": [
    "# Define a function to categorize and convert crash times to numerical codes directly\n",
    "def categorize_and_convert_crash_time(time_obj):\n",
    "    if pd.isnull(time_obj):\n",
    "        return 5  # 'Unknown'\n",
    "    hours = time_obj.hour\n",
    "    if 6 <= hours < 9:\n",
    "        return 0  # 'Morning Rush Hour'\n",
    "    elif 9 <= hours < 15:\n",
    "        return 1  # 'Midday'\n",
    "    elif 15 <= hours < 19:\n",
    "        return 2  # 'Afternoon Rush Hour'\n",
    "    elif 19 <= hours <= 23:\n",
    "        return 3  # 'Evening'\n",
    "    else:\n",
    "        return 4  # 'Late Night to Early Morning'\n",
    "\n",
    "# Assuming 'Crash Time' is already a datetime.time column\n",
    "df['Crash Time Category'] = df['Crash Time'].apply(categorize_and_convert_crash_time)\n",
    "\n",
    "# Mapping for reference\n",
    "category_to_numerical = {\n",
    "    'Morning Rush Hour': 0,\n",
    "    'Midday': 1,\n",
    "    'Afternoon Rush Hour': 2,\n",
    "    'Evening': 3,\n",
    "    'Late Night to Early Morning': 4,\n",
    "    'Unknown': 5\n",
    "}\n",
    "\n",
    "# Print the mapping for reference\n",
    "print(\"Category to Numerical Mapping:\")\n",
    "for category, numerical in category_to_numerical.items():\n",
    "    print(f\"'{category}': {numerical}\")\n",
    "\n",
    "# Optional: Verify the conversion by viewing the first few entries\n",
    "print(df['Crash Time Category'].head())"
   ]
  },
  {
   "cell_type": "code",
   "execution_count": 7,
   "id": "a7ddcc5b",
   "metadata": {},
   "outputs": [
    {
     "name": "stdout",
     "output_type": "stream",
     "text": [
      "Category to Numerical Mapping:\n",
      "'Stop': 0\n",
      "'Slow Speed': 1\n",
      "'Medium Speed': 2\n",
      "'High Speed': 3\n",
      "'Unknown': 4\n",
      "0    3\n",
      "1    2\n",
      "2    2\n",
      "3    2\n",
      "4    3\n",
      "Name: Speed Category, dtype: int64\n"
     ]
    }
   ],
   "source": [
    "\n",
    "# Assuming df is your DataFrame and it has a column named 'Speed Limit'\n",
    "\n",
    "# Function to categorize speed limits\n",
    "def categorize_speed_limit(speed):\n",
    "    if -1 <= speed <= 20:\n",
    "        return 0  # Stop/Slow\n",
    "    #elif 1 <= speed <= 20:\n",
    "     #   return 1  # Slow\n",
    "    elif 21 <= speed <= 40:\n",
    "        return 2  # Medium\n",
    "    else:\n",
    "        return 3  # High\n",
    "\n",
    "# Apply the function to the 'Speed Limit' column to create a new 'Speed Category' column\n",
    "df['Speed Category'] = df['Speed Limit'].apply(categorize_speed_limit)\n",
    "\n",
    "# Mapping for reference\n",
    "category_to_numerical_speed = {\n",
    "    'Stop': 0,\n",
    "    'Slow Speed': 1,\n",
    "    'Medium Speed': 2,\n",
    "    'High Speed': 3,\n",
    "    'Unknown': 4\n",
    "}\n",
    "\n",
    "# Print the mapping for reference\n",
    "print(\"Category to Numerical Mapping:\")\n",
    "for category, numerical in category_to_numerical_speed.items():\n",
    "    print(f\"'{category}': {numerical}\")\n",
    "\n",
    "# Optional: Verify the conversion by viewing the first few entries\n",
    "print(df['Speed Category'].head())\n"
   ]
  },
  {
   "cell_type": "code",
   "execution_count": 8,
   "id": "27497daa",
   "metadata": {
    "scrolled": true
   },
   "outputs": [
    {
     "name": "stdout",
     "output_type": "stream",
     "text": [
      "Mappings for $1000 Damage to Any One Person's Property: {0: 'No', 1: 'Yes'}\n",
      "\n",
      "Mappings for Active School Zone Flag: {0: 'No', 1: 'Yes'}\n",
      "\n",
      "Mappings for At Intersection Flag: {0: False, 1: True}\n",
      "\n",
      "Mappings for Construction Zone Flag: {0: 'No', 1: 'Yes'}\n",
      "\n",
      "Mappings for Day of Week: {0: 'Friday', 1: 'Monday', 2: 'Saturday', 3: 'Sunday', 4: 'Thursday', 5: 'Tuesday', 6: 'Wednesday'}\n",
      "\n",
      "Mappings for Intersection Related: {0: 'Driveway Access', 1: 'Intersection', 2: 'Intersection Related', 3: 'Non Intersection', 4: 'Not Reported'}\n",
      "\n",
      "Mappings for Roadway Part: {0: 'Entrance/On Ramp', 1: 'Main/Proper Lane', 2: 'Other (Explain In Narrative)', 3: 'Service/Frontage Road'}\n",
      "\n",
      "Mappings for Person Helmet: {0: 'Not Worn', 1: 'Unknown If Worn', 2: 'Worn, Damaged', 3: 'Worn, Not Damaged', 4: 'Worn, Unk Damage'}\n",
      "\n",
      "Mappings for Surface Condition: {0: 'Dry', 1: 'Ice', 2: 'Other (Explain In Narrative)', 3: 'Sand, Mud, Dirt', 4: 'Standing Water', 5: 'Unknown', 6: 'Wet'}\n",
      "\n",
      "Mappings for Traffic Control Type: {0: 'Bike Lane', 1: 'Center Stripe/Divider', 2: 'Crosswalk', 3: 'Flagman', 4: 'Flashing Red Light', 5: 'Flashing Yellow Light', 6: 'Marked Lanes', 7: 'No Passing Zone', 8: 'None', 9: 'Officer', 10: 'Other (Explain In Narrative)', 11: 'Signal Light', 12: 'Signal Light With Red Light Running Camera', 13: 'Stop Sign', 14: 'Warning Sign', 15: 'Yield Sign'}\n",
      "\n",
      "Mappings for Crash Time Category: {0: 0, 1: 1, 2: 2, 3: 3, 4: 4}\n",
      "\n",
      "Mappings for Speed Category: {0: 0, 1: 2, 2: 3}\n",
      "\n"
     ]
    }
   ],
   "source": [
    "#df.rename(columns={'$1000 Damage to Any One Person\\'s Property': 'Damage to Property'}, inplace=True)\n",
    "\n",
    "# Identify categorical columns (You might need to adjust this list based on your dataset)\n",
    "categorical_columns = ['$1000 Damage to Any One Person\\'s Property','Active School Zone Flag','At Intersection Flag','Construction Zone Flag',  'Day of Week','Intersection Related', 'Roadway Part', 'Person Helmet', 'Surface Condition','Traffic Control Type', 'Crash Time Category','Speed Category']\n",
    "\n",
    "# Initialize LabelEncoders and apply them to each categorical column\n",
    "label_encoders = {}\n",
    "for col in categorical_columns:\n",
    "    le = LabelEncoder()\n",
    "    df[col] = le.fit_transform(df[col])\n",
    "    label_encoders[col] = le\n",
    "\n",
    "# Print out mappings for each categorical variable\n",
    "for col, le in label_encoders.items():\n",
    "    mappings = {index: label for index, label in enumerate(le.classes_)}\n",
    "    print(f'Mappings for {col}: {mappings}\\n')"
   ]
  },
  {
   "cell_type": "code",
   "execution_count": 9,
   "id": "dd4de5f4",
   "metadata": {},
   "outputs": [
    {
     "data": {
      "application/vnd.jupyter.widget-view+json": {
       "model_id": "25601fe274c2477aa7189b30ef5ef1a9"
      },
      "text/plain": [
       "      $1000 Damage to Any One Person's Property  Active School Zone Flag  \\\n",
       "0                                             0                        0   \n",
       "1                                             0                        0   \n",
       "2                                             0                        0   \n",
       "3                                             0                        0   \n",
       "4                                             0                        0   \n",
       "...                                         ...                      ...   \n",
       "2458                                          0                        0   \n",
       "2459                                          0                        0   \n",
       "2460                                          0                        0   \n",
       "2461                                          1                        0   \n",
       "2462                                          1                        0   \n",
       "\n",
       "      At Intersection Flag Average Daily Traffic Amount  \\\n",
       "0                        0                        15262   \n",
       "1                        0                      No Data   \n",
       "2                        0                      No Data   \n",
       "3                        0                      No Data   \n",
       "4                        0                        22775   \n",
       "...                    ...                          ...   \n",
       "2458                     1                      No Data   \n",
       "2459                     1                      No Data   \n",
       "2460                     1                      No Data   \n",
       "2461                     1                      No Data   \n",
       "2462                     1                      No Data   \n",
       "\n",
       "      Construction Zone Flag  Crash Severity Crash Time  \\\n",
       "0                          0               1   02:39:00   \n",
       "1                          0               0   03:10:00   \n",
       "2                          0               0   03:10:00   \n",
       "3                          0               0   03:10:00   \n",
       "4                          0               0   23:00:00   \n",
       "...                      ...             ...        ...   \n",
       "2458                       0               0   12:54:00   \n",
       "2459                       0               0   20:48:00   \n",
       "2460                       0               0   07:37:00   \n",
       "2461                       0               0   09:30:00   \n",
       "2462                       0               0   18:02:00   \n",
       "\n",
       "      Crash Total Injury Count  Crash Year  Day of Week  Intersection Related  \\\n",
       "0                            1        2010            0                     3   \n",
       "1                            2        2010            0                     3   \n",
       "2                            2        2010            0                     3   \n",
       "3                            2        2010            0                     3   \n",
       "4                            1        2010            1                     2   \n",
       "...                        ...         ...          ...                   ...   \n",
       "2458                         1        2017            5                     2   \n",
       "2459                         1        2017            5                     3   \n",
       "2460                         0        2017            4                     2   \n",
       "2461                         1        2017            0                     1   \n",
       "2462                         0        2017            0                     1   \n",
       "\n",
       "      Roadway Part  Speed Limit  Surface Condition  Traffic Control Type  \\\n",
       "0                1           45                  0                     6   \n",
       "1                1           35                  0                     1   \n",
       "2                1           35                  0                     1   \n",
       "3                1           35                  0                     1   \n",
       "4                1           45                  0                     8   \n",
       "...            ...          ...                ...                   ...   \n",
       "2458             1           40                  0                    11   \n",
       "2459             1           -1                  0                     1   \n",
       "2460             1           30                  6                    11   \n",
       "2461             1           -1                  0                    13   \n",
       "2462             1           35                  0                     6   \n",
       "\n",
       "      Person Helmet  target  Crash Time Category  Speed Category  \n",
       "0                 2      -1                    4               2  \n",
       "1                 0      -1                    4               1  \n",
       "2                 0      -1                    4               1  \n",
       "3                 0      -1                    4               1  \n",
       "4                 0      -1                    3               2  \n",
       "...             ...     ...                  ...             ...  \n",
       "2458              0      -1                    1               1  \n",
       "2459              0      -1                    3               0  \n",
       "2460              0      -1                    0               1  \n",
       "2461              4      -1                    1               0  \n",
       "2462              0      -1                    2               1  \n",
       "\n",
       "[2463 rows x 19 columns]"
      ]
     },
     "metadata": {},
     "output_type": "display_data"
    }
   ],
   "source": [
    "df"
   ]
  },
  {
   "cell_type": "raw",
   "id": "df2c21ec",
   "metadata": {},
   "source": [
    "Logistic Regression"
   ]
  },
  {
   "cell_type": "code",
   "execution_count": 10,
   "id": "741e02d2",
   "metadata": {},
   "outputs": [
    {
     "name": "stdout",
     "output_type": "stream",
     "text": [
      "Random Forest with SMOTE Accuracy: 0.5456389452332657\n",
      "Classification Report:\n",
      "               precision    recall  f1-score   support\n",
      "\n",
      "           0       0.65      0.69      0.67       328\n",
      "           1       0.31      0.26      0.28       162\n",
      "           2       0.00      0.00      0.00         3\n",
      "\n",
      "    accuracy                           0.55       493\n",
      "   macro avg       0.32      0.32      0.32       493\n",
      "weighted avg       0.54      0.55      0.54       493\n",
      "\n",
      "Confusion Matrix:\n",
      " [[227  94   7]\n",
      " [118  42   2]\n",
      " [  2   1   0]]\n"
     ]
    },
    {
     "data": {
      "text/plain": [
       "['random_forest_with_smote.joblib']"
      ]
     },
     "execution_count": 10,
     "metadata": {},
     "output_type": "execute_result"
    }
   ],
   "source": [
    "import pandas as pd\n",
    "from sklearn.model_selection import train_test_split\n",
    "from sklearn.ensemble import RandomForestClassifier\n",
    "from sklearn.metrics import classification_report, accuracy_score, confusion_matrix\n",
    "from imblearn.over_sampling import SMOTE\n",
    "from imblearn.pipeline import Pipeline as ImbPipeline\n",
    "from joblib import dump\n",
    "\n",
    "# Assuming df is your DataFrame and is already preprocessed\n",
    "# Define the list of features you want to use for modeling\n",
    "selected_features = [\n",
    "    'Day of Week',\n",
    "    'Active School Zone Flag',\n",
    "    'Speed Category',\n",
    "    'Crash Time Category',\n",
    "    'Surface Condition',\n",
    "    'Person Helmet',\n",
    "    'Intersection Related',\n",
    "    'Construction Zone Flag',\n",
    "    'Roadway Part',\n",
    "    'Traffic Control Type'\n",
    "]\n",
    "\n",
    "# Selecting only the specified features for X\n",
    "X = df[selected_features]\n",
    "\n",
    "# Assuming 'Crash Severity' is your target variable\n",
    "y = df['Crash Severity']\n",
    "\n",
    "# Splitting the dataset into training and testing sets\n",
    "X_train, X_test, y_train, y_test = train_test_split(X, y, test_size=0.2, random_state=42)\n",
    "\n",
    "# Creating a pipeline with SMOTE and Random Forest Classifier\n",
    "pipeline = ImbPipeline([\n",
    "    ('smote', SMOTE(random_state=42)),\n",
    "    ('classifier', RandomForestClassifier(random_state=42))\n",
    "])\n",
    "\n",
    "# Fitting the pipeline to the training data\n",
    "pipeline.fit(X_train, y_train)\n",
    "\n",
    "# Making predictions on the test set\n",
    "y_pred = pipeline.predict(X_test)\n",
    "\n",
    "# Evaluating the model\n",
    "print(\"Random Forest with SMOTE Accuracy:\", accuracy_score(y_test, y_pred))\n",
    "print(\"Classification Report:\\n\", classification_report(y_test, y_pred))\n",
    "print(\"Confusion Matrix:\\n\", confusion_matrix(y_test, y_pred))\n",
    "\n",
    "# Saving the pipeline for later use\n",
    "dump(pipeline, 'random_forest_with_smote.joblib')\n"
   ]
  }
 ],
 "metadata": {
  "kernelspec": {
   "display_name": "Python 3 (ipykernel)",
   "language": "python",
   "name": "python3"
  },
  "language_info": {
   "codemirror_mode": {
    "name": "ipython",
    "version": 3
   },
   "file_extension": ".py",
   "mimetype": "text/x-python",
   "name": "python",
   "nbconvert_exporter": "python",
   "pygments_lexer": "ipython3",
   "version": "3.10.9"
  }
 },
 "nbformat": 4,
 "nbformat_minor": 5
}
